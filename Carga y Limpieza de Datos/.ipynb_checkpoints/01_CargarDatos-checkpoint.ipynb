{
 "cells": [
  {
   "cell_type": "markdown",
   "metadata": {},
   "source": [
    "### Carga de datos usando la función read_csv"
   ]
  },
  {
   "cell_type": "code",
   "execution_count": null,
   "metadata": {},
   "outputs": [],
   "source": [
    "import pandas as pd\n",
    "import os"
   ]
  },
  {
   "cell_type": "code",
   "execution_count": null,
   "metadata": {},
   "outputs": [],
   "source": [
    "mainpath = \"/JupyterNotebooks/machine_learning/datasets/\"\n",
    "filename = \"titanic/titanic3.csv\"\n",
    "fullpath = os.path.join(mainpath,fullpath)"
   ]
  },
  {
   "cell_type": "code",
   "execution_count": null,
   "metadata": {},
   "outputs": [],
   "source": [
    "data = pd.read_csv(fullpath)"
   ]
  },
  {
   "cell_type": "code",
   "execution_count": null,
   "metadata": {},
   "outputs": [],
   "source": [
    "data.head()"
   ]
  },
  {
   "cell_type": "markdown",
   "metadata": {},
   "source": [
    "### Argumentos de la funcion read_csv \n",
    "* sep : separador de columnas, puede ser una Exp Reg\n",
    "* dtype: especificar el tipo de datos de cada columna, dtype=(\"a\":np.float64); la col \"a\"  se carga como float\n",
    "* header: para especificar que fila es la cabecera del dataset, por defecto se usa la 1era fila\n",
    "* name: array o lita para nombrar o renombrar las columnas de un dataset\n",
    "* skiprows: para saltar a una fila especifica\n",
    "* index_col  indicar una columna especifica como identificador\n",
    "* skip_blank_lines : para saltarse valores en blanco o NaN\n",
    "* nan_filter: elimina cualquier fila que tenga valores NaN o strings vacios, mucho cuidado con esta!!\n",
    "\n",
    "  read.csv(**filepath**=\"/JupyterNotebooks/machine_learning/datasets/titanic/titanic3.csv\", **sep**=\",\", **dtype**=None, **header**=0, **names**={\"nameA\",\"nameB\"}, **skiprows**=12, **index_col**=None, **skip_blank_lines**=True, **na_filte**=False)\n",
    "        \n"
   ]
  },
  {
   "cell_type": "markdown",
   "metadata": {},
   "source": [
    "### Obtener de dos archivos distintos las cabeceras y las filas de un dataset "
   ]
  },
  {
   "cell_type": "code",
   "execution_count": null,
   "metadata": {},
   "outputs": [],
   "source": [
    "#obtengo un dataset .txt, read_csv() lo lee porque ya esta separado por comas\n",
    "data2 = pd.read_csv(mainpath+\"/\"+\"customer-churn-model/Customer Churn Model.txt\")"
   ]
  },
  {
   "cell_type": "code",
   "execution_count": null,
   "metadata": {},
   "outputs": [],
   "source": [
    "#se verifica que el dataset cargo corectamente y vemos los nombres originales de sus cabeceras\n",
    "data2.head() "
   ]
  },
  {
   "cell_type": "code",
   "execution_count": null,
   "metadata": {},
   "outputs": [],
   "source": [
    "#esta es la lista de cabeceras originales del dataset\n",
    "data2.columns.values"
   ]
  },
  {
   "cell_type": "code",
   "execution_count": null,
   "metadata": {},
   "outputs": [],
   "source": [
    "#obtengo otro grupo de cabeceras desde otro archivo y las transformo en una lista\n",
    "data_cols = pd.read_csv(mainpath + \"/\" +\"customer-churn-model/Customer Churn Columns.csv\")\n",
    "data_col_list = data_cols[\"Column_Names\"].tolist()\n",
    "data_col_list\n",
    "\n",
    "#ahora uso esa lista para sustituir las cabeceras originales del dataset\n",
    "data2 = pd.read_csv(mainpath+\"/\"+\"customer-churn-model/Customer Churn Model.txt\",\n",
    "                    header = None, names = data_col_list)\n",
    "data2.columns.values"
   ]
  },
  {
   "cell_type": "code",
   "execution_count": null,
   "metadata": {},
   "outputs": [],
   "source": []
  }
 ],
 "metadata": {
  "kernelspec": {
   "display_name": "Python 3",
   "language": "python",
   "name": "python3"
  },
  "language_info": {
   "codemirror_mode": {
    "name": "ipython",
    "version": 3
   },
   "file_extension": ".py",
   "mimetype": "text/x-python",
   "name": "python",
   "nbconvert_exporter": "python",
   "pygments_lexer": "ipython3",
   "version": "3.6.5"
  }
 },
 "nbformat": 4,
 "nbformat_minor": 2
}
